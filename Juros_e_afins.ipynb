{
  "nbformat": 4,
  "nbformat_minor": 0,
  "metadata": {
    "colab": {
      "provenance": [],
      "authorship_tag": "ABX9TyNDipP2XG//NyZ6OthPS6MU",
      "include_colab_link": true
    },
    "kernelspec": {
      "name": "python3",
      "display_name": "Python 3"
    },
    "language_info": {
      "name": "python"
    }
  },
  "cells": [
    {
      "cell_type": "markdown",
      "metadata": {
        "id": "view-in-github",
        "colab_type": "text"
      },
      "source": [
        "<a href=\"https://colab.research.google.com/github/Jaumzinho109/Impactus_Python_Scripts/blob/main/Juros_e_afins.ipynb\" target=\"_parent\"><img src=\"https://colab.research.google.com/assets/colab-badge.svg\" alt=\"Open In Colab\"/></a>"
      ]
    },
    {
      "cell_type": "code",
      "source": [
        "import pandas as pd\n",
        "from fredapi import Fred\n",
        "import matplotlib.pyplot as plt\n",
        "import numpy as np\n",
        "from matplotlib import font_manager as fm\n",
        "\n",
        "font_path = r\"C:\\Users\\Joao\\Downloads\\Montserrat\\static\\Montserrat-Regular.ttf\"\n",
        "font_prop = fm.FontProperties(fname=font_path)\n",
        "fred = Fred(api_key=\"672d5598c8a41df9397cc5eb92c02d5e\")\n",
        "\n",
        "tyy = fred.get_series(\"DGS10\")\n",
        "ten_yr_yield = pd.DataFrame(tyy, columns=['10-Year Yield']).tail(150).dropna()\n",
        "\n",
        "tmy = fred.get_series(\"DGS3MO\")\n",
        "three_months_yields = pd.DataFrame(tmy, columns=['3-Month Yield']).tail(150).dropna()\n",
        "index = three_months_yields.index\n",
        "\n",
        "plt.figure(figsize=(15, 8))\n",
        "plt.plot(index, three_months_yields, label='3-Month Yield', linewidth=2, color=\"#082631\")\n",
        "plt.plot(index, ten_yr_yield, label='10-Year Yield', linewidth=2, color=\"#166083\")\n",
        "plt.suptitle(\"10 Yr Yield vs 3 Months Yield\", fontsize=15, fontweight='bold', fontproperties=font_prop)\n",
        "plt.title(\"Market Yield on U.S. Treasury Securities Constant Maturity, Quoted on an Investment Basis\",\n",
        "          fontsize=12, style='italic', pad=10, fontproperties=font_prop)\n",
        "plt.legend(frameon=False, loc='upper right', fontsize=11, prop=font_prop)\n",
        "plt.xlabel(\"Fonte: FRED | Impactus UFRJ\", fontsize=10, labelpad=15, fontproperties=font_prop)\n",
        "\n",
        "\n",
        "plt.gca().spines['top'].set_visible(False)\n",
        "plt.gca().spines['right'].set_visible(False)\n",
        "plt.gca().spines['left'].set_color('#d9d9d9')\n",
        "plt.gca().spines['bottom'].set_color('#d9d9d9')\n",
        "\n",
        "final_value_3mo = three_months_yields.iloc[-1, 0]\n",
        "plt.text(index[-1], final_value_3mo,\n",
        "         f'{final_value_3mo:.2f}',\n",
        "         color=\"#082631\",\n",
        "         fontsize=11,\n",
        "         fontproperties=font_prop,\n",
        "         verticalalignment='center',\n",
        "         horizontalalignment='left')\n",
        "\n",
        "final_value_10yr = ten_yr_yield.iloc[-1, 0]\n",
        "plt.text(index[-1], final_value_10yr,\n",
        "         f'{final_value_10yr:.2f}',\n",
        "         color=\"#166083\",\n",
        "         fontsize=11,\n",
        "         fontproperties=font_prop,\n",
        "         verticalalignment='center',\n",
        "         horizontalalignment='left')\n",
        "\n",
        "\n",
        "plt.gca().xaxis.grid(False)\n",
        "plt.show()\n",
        "\n"
      ],
      "metadata": {
        "id": "6iks-Ox7LLfT"
      },
      "execution_count": null,
      "outputs": []
    },
    {
      "cell_type": "code",
      "source": [
        "#tem que criar o índice anteriormente e instalar o abridor de excel, eu amo programar!!!!!!!!!!!!\n",
        "\n",
        "juros = pd.DataFrame()\n",
        "juros[\"10 anos\"] = ten_yr_yield[\"10-Year Yield\"]\n",
        "juros[\"3 meses\"] = three_months_yields[\"3-Month Yield\"]\n",
        "juros.index = ind\n",
        "juros.index = pd.to_datetime(index).strftime('%Y-%m-%d')\n",
        "\n",
        "juros.to_excel('dados.xlsx', index=True)\n",
        "import os\n",
        "\n",
        "# Abra o arquivo Excel (somente Windows)\n",
        "os.startfile('dados.xlsx')"
      ],
      "metadata": {
        "id": "WMTxvDUaMYO6"
      },
      "execution_count": null,
      "outputs": []
    },
    {
      "cell_type": "code",
      "execution_count": null,
      "metadata": {
        "id": "qpyPkP303gtM"
      },
      "outputs": [],
      "source": [
        "fm.fontManager.addfont(font_path)\n",
        "plt.rcParams['font.family'] = font_prop.get_name()\n"
      ]
    },
    {
      "cell_type": "code",
      "source": [
        "be = fred.get_series(\"T5YIE\")\n",
        "breakeven_5yr = pd.DataFrame()\n",
        "breakeven_5yr[\"Breakeven de 5 anos\"] = pd.DataFrame(be)\n",
        "breakeven_5yr = breakeven_5yr.dropna().tail(150)\n",
        "\n",
        "br = fred.get_series(\"T10YIE\")\n",
        "breakeven_10yr = pd.DataFrame()\n",
        "breakeven_10yr[\"Breakeven de 10 anos\"] = pd.DataFrame(br)\n",
        "breakeven_10yr = breakeven_10yr.dropna().tail(150)\n",
        "\n",
        "# Não resetamos o índice aqui, mantemos as datas\n",
        "# O índice já é a data\n",
        "index = breakeven_10yr.index  # Usando o índice de data original\n",
        "\n",
        "plt.figure(figsize=(15, 8))\n",
        "plt.plot(index, breakeven_5yr[\"Breakeven de 5 anos\"], label='5-Year Breakeven Rate', linewidth=2, color=\"#082631\")\n",
        "plt.plot(index, breakeven_10yr[\"Breakeven de 10 anos\"], label='10-Year Breakeven Rate', linewidth=2, color=\"#166083\")\n",
        "plt.suptitle(\"Inflation Breakeven: 5-Year vs 10 Year\", fontsize=15, fontweight='bold', fontproperties=font_prop)\n",
        "plt.legend(frameon=False, loc='upper left', fontsize=11, prop=font_prop)\n",
        "plt.xlabel(\"Fonte: FRED | Impactus UFRJ\", fontsize=10, labelpad=15, fontproperties=font_prop)\n",
        "\n",
        "plt.gca().spines['top'].set_visible(False)\n",
        "plt.gca().spines['right'].set_visible(False)\n",
        "plt.gca().spines['left'].set_color('#d9d9d9')\n",
        "plt.gca().spines['bottom'].set_color('#d9d9d9')\n",
        "\n",
        "# Marcação com os valores finais\n",
        "final_value_5yr = breakeven_5yr.iloc[-1, 0]\n",
        "plt.text(index[-1], final_value_5yr,\n",
        "         f'{final_value_5yr:.2f}',\n",
        "         color=\"#082631\",\n",
        "         fontsize=11,\n",
        "         fontproperties=font_prop,\n",
        "         verticalalignment='center',\n",
        "         horizontalalignment='left')\n",
        "\n",
        "final_value_10yr = breakeven_10yr.iloc[-1, 0]\n",
        "plt.text(index[-1], final_value_10yr,\n",
        "         f'{final_value_10yr:.2f}',\n",
        "         color=\"#166083\",\n",
        "         fontsize=11,\n",
        "         fontproperties=font_prop,\n",
        "         verticalalignment='center',\n",
        "         horizontalalignment='left')\n",
        "\n",
        "plt.gca().xaxis.grid(False)\n",
        "plt.show()"
      ],
      "metadata": {
        "id": "sRmTaiXxLKNL"
      },
      "execution_count": null,
      "outputs": []
    },
    {
      "cell_type": "code",
      "source": [
        "breakeven = pd.DataFrame()\n",
        "breakeven[\"10 anos\"] = breakeven_10yr[\"Breakeven de 10 anos\"]\n",
        "breakeven[\"5 anos\"] = breakeven_5yr[\"Breakeven de 5 anos\"]\n",
        "breakeven.index = inx\n",
        "breakeven.index = pd.to_datetime(index).strftime('%Y-%m-%d')\n",
        "\n",
        "breakeven.to_excel('dados.xlsx', index=True)\n",
        "import os\n",
        "\n",
        "# Abra o arquivo Excel (somente Windows)\n",
        "os.startfile('dados.xlsx')"
      ],
      "metadata": {
        "id": "orJBeaOLMjGI"
      },
      "execution_count": null,
      "outputs": []
    }
  ]
}