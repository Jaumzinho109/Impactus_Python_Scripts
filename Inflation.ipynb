{
  "nbformat": 4,
  "nbformat_minor": 0,
  "metadata": {
    "colab": {
      "provenance": [],
      "authorship_tag": "ABX9TyPe0p0YH5v5Bz9i+nenhoCQ",
      "include_colab_link": true
    },
    "kernelspec": {
      "name": "python3",
      "display_name": "Python 3"
    },
    "language_info": {
      "name": "python"
    }
  },
  "cells": [
    {
      "cell_type": "markdown",
      "metadata": {
        "id": "view-in-github",
        "colab_type": "text"
      },
      "source": [
        "<a href=\"https://colab.research.google.com/github/Jaumzinho109/Impactus_Python_Scripts/blob/main/Inflation.ipynb\" target=\"_parent\"><img src=\"https://colab.research.google.com/assets/colab-badge.svg\" alt=\"Open In Colab\"/></a>"
      ]
    },
    {
      "cell_type": "markdown",
      "source": [
        "CPI e Afins"
      ],
      "metadata": {
        "id": "sr3Pcnz68Haa"
      }
    },
    {
      "cell_type": "code",
      "execution_count": null,
      "metadata": {
        "id": "JtLtvX0Fg8v9"
      },
      "outputs": [],
      "source": [
        "import pandas as pd\n",
        "from fredapi import Fred\n",
        "import matplotlib.pyplot as plt\n",
        "from matplotlib import font_manager as fm\n",
        "import matplotlib.ticker as mtick\n",
        "\n",
        "font_path = r\"C:\\Users\\Joao\\Downloads\\Montserrat\\static\\Montserrat-Regular.ttf\"\n",
        "font_prop = fm.FontProperties(fname=font_path)\n",
        "plt.rcParams['font.family'] = font_prop.get_name()\n",
        "fm.fontManager.addfont(font_path)\n",
        "\n",
        "fred = Fred(api_key=\"672d5598c8a41df9397cc5eb92c02d5e\")\n",
        "\n",
        "pc = fred.get_series(\"SUUR0000SA0L1E\")\n",
        "core_cpi = pd.DataFrame()\n",
        "core_cpi[\"Nível de preços do núcleo\"] = pd.DataFrame(pc)\n",
        "core_cpi[\"Pct Change\"] = core_cpi['Nível de preços do núcleo'].pct_change()\n",
        "core_cpi.index = pd.to_datetime(core_cpi.index)\n",
        "\n",
        "valores_2024 = core_cpi_24.groupby(core_cpi_24.index.month)[\"Pct Change\"].first()\n",
        "valores_2025 = core_cpi_25.groupby(core_cpi_25.index.month)[\"Pct Change\"].first()\n",
        "\n",
        "core_cpi = core_cpi[(core_cpi.index.year >= 2010) & (core_cpi.index.year <= 2019)]\n",
        "\n",
        "\n",
        "meses = {}\n",
        "for mes in range(1, 13):\n",
        "    meses[mes] = core_cpi[core_cpi.index.month == mes]\n",
        "\n",
        "percentil_10 = pd.DataFrame()\n",
        "percentil_90 = pd.DataFrame()\n",
        "\n",
        "for mes in range(1, 13):\n",
        "    dados_mes = core_cpi[core_cpi.index.month == mes][\"Pct Change\"]\n",
        "    p10 = dados_mes.quantile(0.10)\n",
        "    p90 = dados_mes.quantile(0.90)\n",
        "    percentil_10.loc[mes, \"Percentil 10\"] = p10\n",
        "    percentil_90.loc[mes, \"Percentil 90\"] = p90\n",
        "\n",
        "valores_2024 = []\n",
        "valores_2025 = []\n",
        "\n",
        "for mes in range(1, 13):\n",
        "    valor_24 = core_cpi_24[core_cpi_24.index.month == mes][\"Pct Change\"].values\n",
        "    valor_25 = core_cpi_25[core_cpi_25.index.month == mes][\"Pct Change\"].values\n",
        "    valores_2024.append(valor_24[0] if len(valor_24) > 0 else None)\n",
        "    valores_2025.append(valor_25[0] if len(valor_25) > 0 else None)\n",
        "\n",
        "valores_dos_graficos = pd.DataFrame()\n",
        "valores_dos_graficos[\"Percentil 10\"] = percentil_10[\"Percentil 10\"]\n",
        "valores_dos_graficos[\"Percentil 90\"] = percentil_90[\"Percentil 90\"]\n",
        "valores_dos_graficos[\"Ano de 2024\"] = valores_2024\n",
        "valores_dos_graficos[\"Ano de 2025\"] = valores_2025\n",
        "valores_dos_graficos[\"Mediana\"] = core_cpi.groupby(core_cpi.index.month)[\"Pct Change\"].median()\n",
        "valores_dos_graficos.index = [\"Jan\", \"Feb\", \"Mar\", \"Apr\", \"May\", \"Jun\", \"Jul\", \"Aug\", \"Sep\", \"Oct\", \"Nov\", \"Dec\"]\n",
        "\n",
        "display(valores_dos_graficos)\n"
      ]
    },
    {
      "cell_type": "code",
      "source": [
        "plt.figure(figsize=(18, 10.8))\n",
        "\n",
        "plt.fill_between(valores_dos_graficos.index, valores_dos_graficos[\"Percentil 10\"], valores_dos_graficos[\"Percentil 90\"], color=\"grey\", alpha=0.3, label=\"10th-90th (2010-2019)\")\n",
        "plt.plot(valores_dos_graficos.index, valores_dos_graficos[\"Mediana\"], linestyle=\"dotted\", linewidth=2, color=\"#166083\", label=\"Median\")\n",
        "plt.plot(valores_dos_graficos.index, valores_dos_graficos[\"Ano de 2024\"], marker=\"o\", linewidth=2, color=\"#082631\", label=\"2024\")\n",
        "plt.plot(valores_dos_graficos.index, valores_dos_graficos[\"Ano de 2025\"], marker=\"o\", linewidth=2, color=\"#37A6D9\", label=\"2025\")\n",
        "plt.suptitle(\"Core CPI\", fontsize=20, fontweight='bold', fontproperties=font_prop)\n",
        "plt.legend(frameon=False, fontsize=14, prop=font_prop, loc=\"upper right\")\n",
        "\n",
        "plt.gca().spines[\"top\"].set_visible(False)\n",
        "plt.gca().spines[\"right\"].set_visible(False)\n",
        "plt.gca().spines[\"left\"].set_color(\"#d9d9d9\")\n",
        "plt.gca().spines[\"bottom\"].set_color(\"#d9d9d9\")\n",
        "plt.gca().yaxis.set_major_formatter(mtick.PercentFormatter(xmax=1))\n",
        "\n",
        "plt.xlabel(\"Fonte: FRED | Impactus UFRJ\", fontsize=14, labelpad=15, fontproperties=font_prop)\n",
        "plt.tight_layout()\n",
        "plt.show()\n"
      ],
      "metadata": {
        "id": "ecSfUMPA8NnO"
      },
      "execution_count": null,
      "outputs": []
    },
    {
      "cell_type": "markdown",
      "source": [
        "PCE SA - Main"
      ],
      "metadata": {
        "id": "9n8_T1C6mdrX"
      }
    },
    {
      "cell_type": "code",
      "source": [
        "#Este é o core PCE\n",
        "psa = fred.get_series(\"PCEPILFE\")\n",
        "core_pce_sa = pd.DataFrame()\n",
        "core_pce_sa[\"Pct Change\"] = pd.DataFrame(psa).pct_change()\n",
        "core_pce_sa[\"Pct Change from a year ago\"] = pd.DataFrame(psa).pct_change(periods=12)\n",
        "\n",
        "#Vou pegar limites 90 e 10\n",
        "psa = fred.get_series(\"PCEPILFE\")\n",
        "core_pce_sa = pd.DataFrame()\n",
        "core_pce_sa[\"Pct Change\"] = pd.DataFrame(psa).pct_change()\n",
        "core_pce_sa[\"Pct Change from a year ago\"] = pd.DataFrame(psa).pct_change(periods=12)\n",
        "\n",
        "#Vou pegar limites 90 e 10, valores de 2024 e 2025 e mediana para o pct change\n",
        "pce_graph_values = core_pce_sa[(core_pce_sa.index.year >= 2010) & (core_pce_sa.index.year <= 2019)]\n",
        "percentil_10_pctchg = pce_graph_values.groupby(pce_graph_values.index.month)[\"Pct Change\"].quantile(0.10)\n",
        "percentil_90_pctchg = pce_graph_values.groupby(pce_graph_values.index.month)[\"Pct Change\"].quantile(0.90)\n",
        "mediana_pctchg = pce_graph_values.groupby(pce_graph_values.index.month)[\"Pct Change\"].median()\n",
        "pce_pctchg_2024 = core_pce_sa[core_pce_sa.index.year == 2024].groupby(core_pce_sa[core_pce_sa.index.year == 2024].index.month)[\"Pct Change\"].first()\n",
        "pce_pctchg_2025 = core_pce_sa[core_pce_sa.index.year == 2025].groupby(core_pce_sa[core_pce_sa.index.year == 2025].index.month)[\"Pct Change\"].first()\n",
        "\n",
        "pce_pctchg = pd.DataFrame({\n",
        "    \"Percentil 10\": percentil_10_pctchg,\n",
        "    \"Percentil 90\": percentil_90_pctchg,\n",
        "    \"Ano de 2024\": pce_pctchg_2024,\n",
        "    \"Ano de 2025\": pce_pctchg_2025,\n",
        "    \"Mediana\": mediana_pctchg\n",
        "})\n",
        "\n",
        "pce_pctchg.index = [\"Jan\", \"Feb\", \"Mar\", \"Apr\", \"May\", \"Jun\", \"Jul\", \"Aug\", \"Sep\", \"Oct\", \"Nov\", \"Dec\"]"
      ],
      "metadata": {
        "id": "jMyFiKYgmbU1"
      },
      "execution_count": null,
      "outputs": []
    },
    {
      "cell_type": "code",
      "source": [
        "#Agora vou criar o mesmo para pct change from a year ago\n",
        "pce_graph_values_ya = core_pce_sa[(core_pce_sa.index.year >= 2009)]\n",
        "mma3 = pce_graph_values_ya[\"Pct Change from a year ago\"].rolling(window=3).mean()\n",
        "mma12 = pce_graph_values_ya[\"Pct Change from a year ago\"].rolling(window=12).mean()\n",
        "mma6 = pce_graph_values_ya[\"Pct Change from a year ago\"].rolling(window=6).mean()\n",
        "mean_10_19 = core_pce_sa[(core_pce_sa.index.year >= 2010) & (core_pce_sa.index.year <= 2019)][\"Pct Change from a year ago\"].mean()\n",
        "\n",
        "pce_graph_values_ya[\"MMA3\"] = mma3\n",
        "pce_graph_values_ya[\"MMA6\"] = mma6\n",
        "pce_graph_values_ya[\"MMA12\"] = mma12\n",
        "pce_graph_values_ya[\"Mean 2010-2019\"] = mean_10_19\n",
        "\n",
        "pce_ya = pd.DataFrame({\n",
        "    \"MMA3\": mma3,\n",
        "    \"MMA6\": mma6,\n",
        "    \"MMA12\": mma12,\n",
        "    \"Mean 2010-2019\": mean_10_19\n",
        "})\n",
        "\n",
        "pce_ya.dropna(inplace=True)\n",
        "pce_ya = pce_ya.drop(pce_ya.index[0])\n",
        "pce_ya"
      ],
      "metadata": {
        "id": "OwSpr5mOmi2V"
      },
      "execution_count": null,
      "outputs": []
    },
    {
      "cell_type": "code",
      "source": [
        "plt.figure(figsize=(18, 10.8))\n",
        "plt.plot(pce_pctchg.index, pce_pctchg[\"Mediana\"], linewidth=2, color=\"#166083\", label=\"Median\")\n",
        "plt.plot(pce_pctchg.index, pce_pctchg[\"Ano de 2024\"], marker=\"o\", linewidth=2, color=\"#082631\", label=\"2024\")\n",
        "plt.plot(pce_pctchg.index, pce_pctchg[\"Ano de 2025\"], marker=\"o\", linewidth=2, color=\"#37A6D9\", label=\"2025\")\n",
        "plt.plot(pce_pctchg.index, pce_pctchg[\"Percentil 10\"], color=\"grey\", ls= \"-.\")\n",
        "plt.plot(pce_pctchg.index, pce_pctchg[\"Percentil 90\"], color=\"grey\", ls= \"-.\")\n",
        "\n",
        "plt.suptitle(\"Core CPI\", fontsize=20, fontweight='bold', fontproperties=font_prop)\n",
        "plt.text(0.505, 0.94, \"Pct Change MoM %\", fontsize=14, fontproperties=font_prop, ha='center', transform=plt.gcf().transFigure)\n",
        "plt.legend(frameon=False, fontsize=14, prop=font_prop, loc=\"upper right\")\n",
        "\n",
        "plt.gca().spines[\"top\"].set_visible(False)\n",
        "plt.gca().spines[\"right\"].set_visible(False)\n",
        "plt.gca().spines[\"left\"].set_color(\"#d9d9d9\")\n",
        "plt.gca().spines[\"bottom\"].set_color(\"#d9d9d9\")\n",
        "plt.gca().yaxis.set_major_formatter(mtick.PercentFormatter(xmax=1))\n",
        "\n",
        "plt.xlabel(\"Fonte: FRED | Impactus UFRJ\", fontsize=14, labelpad=15, fontproperties=font_prop)\n",
        "plt.tight_layout()\n",
        "plt.show()\n"
      ],
      "metadata": {
        "id": "FI0UlnrImlwu"
      },
      "execution_count": null,
      "outputs": []
    },
    {
      "cell_type": "code",
      "source": [
        "# Cria a figura\n",
        "plt.figure(figsize=(18, 10.8))\n",
        "\n",
        "# Plota as linhas\n",
        "plt.plot(pce_ya.index, pce_ya[\"MMA3\"], linewidth=2, color=\"#AFABAB\", label=\"3 MMA\", ls= \":\")\n",
        "plt.plot(pce_ya.index, pce_ya[\"MMA6\"], linewidth=2, color=\"#37A6D9\", label=\"6 MMA\", ls= \"--\")\n",
        "plt.plot(pce_ya.index, pce_ya[\"MMA12\"], linewidth=2, color=\"#082631\", label=\"12 MMA\")\n",
        "plt.plot(pce_ya.index, pce_ya[\"Mean 2010-2019\"], linewidth=2, color=\"#166083\", label=\"Mean 2010-2019\")\n",
        "\n",
        "plt.suptitle(\"Core PCE\", fontsize=20, fontweight='bold', fontproperties=font_prop)\n",
        "plt.text(0.505, 0.94, \"Pct Change YoY %\", fontsize=14, fontproperties=font_prop, ha='center', transform=plt.gcf().transFigure)\n",
        "plt.legend(frameon=False, fontsize=14, prop=font_prop, loc=\"upper right\")\n",
        "\n",
        "plt.gca().spines[\"top\"].set_visible(False)\n",
        "plt.gca().spines[\"right\"].set_visible(False)\n",
        "plt.gca().spines[\"left\"].set_color(\"#c0c0c0\")\n",
        "plt.gca().spines[\"bottom\"].set_color(\"#c0c0c0\")\n",
        "plt.gca().yaxis.set_major_formatter(mtick.PercentFormatter(xmax=1))\n",
        "\n",
        "plt.xlabel(\"Fonte: FRED | Impactus UFRJ\", fontsize=14, labelpad=15, fontproperties=font_prop)\n",
        "plt.ylim(0, 0.07)\n",
        "\n",
        "plt.text(pce_ya.index[-1], pce_ya[\"MMA3\"].iloc[-1], f'{pce_ya[\"MMA3\"].iloc[-1]:.2%}', color=\"#AFABAB\", fontsize=12, ha='left')\n",
        "plt.text(pce_ya.index[-1], pce_ya[\"MMA6\"].iloc[-1], f'{pce_ya[\"MMA6\"].iloc[-1]:.2%}', color=\"#37A6D9\", fontsize=12, ha='left')\n",
        "plt.text(pce_ya.index[-1], pce_ya[\"MMA12\"].iloc[-1], f'{pce_ya[\"MMA12\"].iloc[-1]:.2%}', color=\"#082631\", fontsize=12, ha='left')\n",
        "plt.text(pce_ya.index[-1], pce_ya[\"Mean 2010-2019\"].iloc[-1], f'{pce_ya[\"Mean 2010-2019\"].iloc[-1]:.2%}', color=\"#166083\", fontsize=12, ha='left')\n",
        "\n",
        "plt.tight_layout()\n",
        "plt.show()"
      ],
      "metadata": {
        "id": "xDpLq2d9mpX-"
      },
      "execution_count": null,
      "outputs": []
    },
    {
      "cell_type": "markdown",
      "source": [],
      "metadata": {
        "id": "adRu1II-8IOh"
      }
    }
  ]
}