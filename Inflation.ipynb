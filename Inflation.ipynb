{
  "nbformat": 4,
  "nbformat_minor": 0,
  "metadata": {
    "colab": {
      "provenance": [],
      "authorship_tag": "ABX9TyMlhhFfSiWvnqt8aB5yPtdu",
      "include_colab_link": true
    },
    "kernelspec": {
      "name": "python3",
      "display_name": "Python 3"
    },
    "language_info": {
      "name": "python"
    }
  },
  "cells": [
    {
      "cell_type": "markdown",
      "metadata": {
        "id": "view-in-github",
        "colab_type": "text"
      },
      "source": [
        "<a href=\"https://colab.research.google.com/github/Jaumzinho109/Impactus_Python_Scripts/blob/main/Inflation.ipynb\" target=\"_parent\"><img src=\"https://colab.research.google.com/assets/colab-badge.svg\" alt=\"Open In Colab\"/></a>"
      ]
    },
    {
      "cell_type": "markdown",
      "source": [
        "CPI e Afins"
      ],
      "metadata": {
        "id": "sr3Pcnz68Haa"
      }
    },
    {
      "cell_type": "code",
      "execution_count": null,
      "metadata": {
        "id": "JtLtvX0Fg8v9"
      },
      "outputs": [],
      "source": [
        "import pandas as pd\n",
        "from fredapi import Fred\n",
        "import matplotlib.pyplot as plt\n",
        "from matplotlib import font_manager as fm\n",
        "import matplotlib.ticker as mtick\n",
        "\n",
        "font_path = r\"C:\\Users\\Joao\\Downloads\\Montserrat\\static\\Montserrat-Regular.ttf\"\n",
        "font_prop = fm.FontProperties(fname=font_path)\n",
        "plt.rcParams['font.family'] = font_prop.get_name()\n",
        "fm.fontManager.addfont(font_path)\n",
        "\n",
        "fred = Fred(api_key=\"672d5598c8a41df9397cc5eb92c02d5e\")\n",
        "\n",
        "pc = fred.get_series(\"SUUR0000SA0L1E\")\n",
        "core_cpi = pd.DataFrame()\n",
        "core_cpi[\"Nível de preços do núcleo\"] = pd.DataFrame(pc)\n",
        "core_cpi[\"Pct Change\"] = core_cpi['Nível de preços do núcleo'].pct_change()\n",
        "core_cpi.index = pd.to_datetime(core_cpi.index)\n",
        "\n",
        "valores_2024 = core_cpi_24.groupby(core_cpi_24.index.month)[\"Pct Change\"].first()\n",
        "valores_2025 = core_cpi_25.groupby(core_cpi_25.index.month)[\"Pct Change\"].first()\n",
        "\n",
        "core_cpi = core_cpi[(core_cpi.index.year >= 2010) & (core_cpi.index.year <= 2019)]\n",
        "\n",
        "\n",
        "meses = {}\n",
        "for mes in range(1, 13):\n",
        "    meses[mes] = core_cpi[core_cpi.index.month == mes]\n",
        "\n",
        "percentil_10 = pd.DataFrame()\n",
        "percentil_90 = pd.DataFrame()\n",
        "\n",
        "for mes in range(1, 13):\n",
        "    dados_mes = core_cpi[core_cpi.index.month == mes][\"Pct Change\"]\n",
        "    p10 = dados_mes.quantile(0.10)\n",
        "    p90 = dados_mes.quantile(0.90)\n",
        "    percentil_10.loc[mes, \"Percentil 10\"] = p10\n",
        "    percentil_90.loc[mes, \"Percentil 90\"] = p90\n",
        "\n",
        "valores_2024 = []\n",
        "valores_2025 = []\n",
        "\n",
        "for mes in range(1, 13):\n",
        "    valor_24 = core_cpi_24[core_cpi_24.index.month == mes][\"Pct Change\"].values\n",
        "    valor_25 = core_cpi_25[core_cpi_25.index.month == mes][\"Pct Change\"].values\n",
        "    valores_2024.append(valor_24[0] if len(valor_24) > 0 else None)\n",
        "    valores_2025.append(valor_25[0] if len(valor_25) > 0 else None)\n",
        "\n",
        "valores_dos_graficos = pd.DataFrame()\n",
        "valores_dos_graficos[\"Percentil 10\"] = percentil_10[\"Percentil 10\"]\n",
        "valores_dos_graficos[\"Percentil 90\"] = percentil_90[\"Percentil 90\"]\n",
        "valores_dos_graficos[\"Ano de 2024\"] = valores_2024\n",
        "valores_dos_graficos[\"Ano de 2025\"] = valores_2025\n",
        "valores_dos_graficos[\"Mediana\"] = core_cpi.groupby(core_cpi.index.month)[\"Pct Change\"].median()\n",
        "valores_dos_graficos.index = [\"Jan\", \"Feb\", \"Mar\", \"Apr\", \"May\", \"Jun\", \"Jul\", \"Aug\", \"Sep\", \"Oct\", \"Nov\", \"Dec\"]\n",
        "\n",
        "display(valores_dos_graficos)\n"
      ]
    },
    {
      "cell_type": "code",
      "source": [
        "plt.figure(figsize=(18, 10.8))\n",
        "\n",
        "plt.fill_between(valores_dos_graficos.index, valores_dos_graficos[\"Percentil 10\"], valores_dos_graficos[\"Percentil 90\"], color=\"grey\", alpha=0.3, label=\"10th-90th (2010-2019)\")\n",
        "plt.plot(valores_dos_graficos.index, valores_dos_graficos[\"Mediana\"], linestyle=\"dotted\", linewidth=2, color=\"#166083\", label=\"Median\")\n",
        "plt.plot(valores_dos_graficos.index, valores_dos_graficos[\"Ano de 2024\"], marker=\"o\", linewidth=2, color=\"#082631\", label=\"2024\")\n",
        "plt.plot(valores_dos_graficos.index, valores_dos_graficos[\"Ano de 2025\"], marker=\"o\", linewidth=2, color=\"#37A6D9\", label=\"2025\")\n",
        "plt.suptitle(\"Core CPI\", fontsize=20, fontweight='bold', fontproperties=font_prop)\n",
        "plt.legend(frameon=False, fontsize=14, prop=font_prop, loc=\"upper right\")\n",
        "\n",
        "plt.gca().spines[\"top\"].set_visible(False)\n",
        "plt.gca().spines[\"right\"].set_visible(False)\n",
        "plt.gca().spines[\"left\"].set_color(\"#d9d9d9\")\n",
        "plt.gca().spines[\"bottom\"].set_color(\"#d9d9d9\")\n",
        "plt.gca().yaxis.set_major_formatter(mtick.PercentFormatter(xmax=1))\n",
        "\n",
        "plt.xlabel(\"Fonte: FRED | Impactus UFRJ\", fontsize=14, labelpad=15, fontproperties=font_prop)\n",
        "plt.tight_layout()\n",
        "plt.show()\n"
      ],
      "metadata": {
        "id": "ecSfUMPA8NnO"
      },
      "execution_count": null,
      "outputs": []
    },
    {
      "cell_type": "markdown",
      "source": [],
      "metadata": {
        "id": "adRu1II-8IOh"
      }
    }
  ]
}