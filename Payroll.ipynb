import pandas as pd
from fredapi import Fred
import matplotlib.pyplot as plt

fred = Fred(api_key="672d5598c8a41df9397cc5eb92c02d5e")

dados = fred.get_series("PAYEMS")

df = pd.DataFrame(dados, columns=["Total"])
df.index.name = "Date"
df["Criação Líquida de Postos de Trabalho"] = df["Total"].diff()

payroll_2324 = df.tail(48)
indice = payroll_2324.index
